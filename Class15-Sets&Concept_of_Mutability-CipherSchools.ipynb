{
  "cells": [
    {
      "cell_type": "code",
      "execution_count": null,
      "metadata": {
        "colab": {
          "base_uri": "https://localhost:8080/"
        },
        "id": "6S6oZ5mfkaoD",
        "outputId": "c28dba8a-5df1-465f-c822-de7ebe564bab"
      },
      "outputs": [],
      "source": [
        "{1,2,3,4,5}"
      ]
    },
    {
      "cell_type": "code",
      "execution_count": null,
      "metadata": {
        "colab": {
          "base_uri": "https://localhost:8080/"
        },
        "id": "YVxv-U3Ukinu",
        "outputId": "533337e2-4d6a-479c-ea77-8bc42cccd959"
      },
      "outputs": [],
      "source": [
        "a={1,2,3,4,5}\n",
        "type(a)"
      ]
    },
    {
      "cell_type": "code",
      "execution_count": null,
      "metadata": {
        "colab": {
          "base_uri": "https://localhost:8080/",
          "height": 182
        },
        "id": "hodwTgn1k0yE",
        "outputId": "5a4ccb82-6716-43ee-a60e-bfdefc892103"
      },
      "outputs": [],
      "source": [
        "a={1,2,3,4,5}\n",
        "a[0]"
      ]
    },
    {
      "cell_type": "code",
      "execution_count": null,
      "metadata": {
        "colab": {
          "base_uri": "https://localhost:8080/"
        },
        "id": "XTokWDC5kpku",
        "outputId": "20bedca3-2737-4930-ef55-d8ad371abc19"
      },
      "outputs": [],
      "source": [
        "a={\"name\":\"QWERTY\"}\n",
        "type(a)"
      ]
    },
    {
      "cell_type": "code",
      "execution_count": null,
      "metadata": {
        "colab": {
          "base_uri": "https://localhost:8080/"
        },
        "id": "yR5-BnXLkvjz",
        "outputId": "30db3efb-50ed-4ece-e132-b71b81cb21da"
      },
      "outputs": [],
      "source": [
        "a={1,2,3,4,5}\n",
        "list(a)"
      ]
    },
    {
      "cell_type": "code",
      "execution_count": null,
      "metadata": {
        "colab": {
          "base_uri": "https://localhost:8080/"
        },
        "id": "NQGdYfGUlG0o",
        "outputId": "75702570-7de6-49da-f2b9-cadfc16cbb6d"
      },
      "outputs": [],
      "source": [
        "a.add(7)\n",
        "a.remove(2)\n",
        "a.add(8)\n",
        "\n",
        "for i in a:\n",
        "  print(i)"
      ]
    },
    {
      "cell_type": "code",
      "execution_count": null,
      "metadata": {
        "colab": {
          "base_uri": "https://localhost:8080/"
        },
        "id": "5W7CcRMJljq9",
        "outputId": "d6018960-a822-4d66-90b3-70625ef2785c"
      },
      "outputs": [],
      "source": [
        "a={1,2,3,4}\n",
        "b={3,4,5,6}\n",
        "a-b"
      ]
    },
    {
      "cell_type": "code",
      "execution_count": null,
      "metadata": {
        "colab": {
          "base_uri": "https://localhost:8080/"
        },
        "id": "ouT9pbIBmD18",
        "outputId": "195330db-4e7d-4ecc-80ee-1a7695a29d4f"
      },
      "outputs": [],
      "source": [
        "a.union(b)\n"
      ]
    },
    {
      "cell_type": "code",
      "execution_count": null,
      "metadata": {
        "colab": {
          "base_uri": "https://localhost:8080/"
        },
        "id": "LnCxN5pbmGil",
        "outputId": "c7da5105-a7fb-4eed-bb7f-0c796880b070"
      },
      "outputs": [],
      "source": [
        "a.intersection(b)"
      ]
    },
    {
      "cell_type": "code",
      "execution_count": null,
      "metadata": {
        "colab": {
          "base_uri": "https://localhost:8080/"
        },
        "id": "qo5qcuU_mgQ2",
        "outputId": "430e7c25-64ad-4d51-be02-1f8d14f02db6"
      },
      "outputs": [],
      "source": [
        "a.add(1)\n",
        "a.remove(4)\n",
        "a"
      ]
    },
    {
      "cell_type": "code",
      "execution_count": null,
      "metadata": {
        "colab": {
          "base_uri": "https://localhost:8080/"
        },
        "id": "J8nY9fPGm1yY",
        "outputId": "56f21a27-b54e-4b34-f8ef-e4f776fb5aea"
      },
      "outputs": [],
      "source": [
        "a=[\n",
        "    ['']*3\n",
        "   ]*3\n",
        "a"
      ]
    },
    {
      "cell_type": "code",
      "execution_count": null,
      "metadata": {
        "colab": {
          "base_uri": "https://localhost:8080/"
        },
        "id": "7peZGBAHnT2b",
        "outputId": "5745f86b-0e5f-4abf-ab91-0f6b41971514"
      },
      "outputs": [],
      "source": [
        "a[1][1]='o'\n",
        "a"
      ]
    },
    {
      "cell_type": "code",
      "execution_count": null,
      "metadata": {
        "colab": {
          "base_uri": "https://localhost:8080/"
        },
        "id": "UVg_00F3nirD",
        "outputId": "0eba946b-fde1-4551-ee42-cc5568620f6f"
      },
      "outputs": [],
      "source": [
        "print(id(a[0][1]))\n",
        "print(id(a[1][1]))\n",
        "print(id(a[2][1]))"
      ]
    },
    {
      "cell_type": "code",
      "execution_count": null,
      "metadata": {
        "colab": {
          "base_uri": "https://localhost:8080/"
        },
        "id": "voBVrWBmoDxX",
        "outputId": "c92b53f3-d3d4-4a3b-aa57-d36b2707a9a7"
      },
      "outputs": [],
      "source": [
        "a=[1,2,3,4,5]\n",
        "id(1)"
      ]
    },
    {
      "cell_type": "code",
      "execution_count": null,
      "metadata": {
        "id": "ECPJ6vE2oWIf"
      },
      "outputs": [],
      "source": [
        "a=1"
      ]
    },
    {
      "cell_type": "code",
      "execution_count": null,
      "metadata": {
        "colab": {
          "base_uri": "https://localhost:8080/"
        },
        "id": "bUm4Ip_0oamn",
        "outputId": "16dd7d17-a84c-4457-ee3b-3c3d54ab50f0"
      },
      "outputs": [],
      "source": [
        "id(a)"
      ]
    },
    {
      "cell_type": "code",
      "execution_count": null,
      "metadata": {
        "colab": {
          "base_uri": "https://localhost:8080/"
        },
        "id": "ciclPaJjoflH",
        "outputId": "9a8a662a-5ffc-4d8e-e34a-42333e88f91a"
      },
      "outputs": [],
      "source": [
        "a=2\n",
        "id(a)"
      ]
    },
    {
      "cell_type": "code",
      "execution_count": 1,
      "metadata": {
        "id": "D5coQVejpL6L"
      },
      "outputs": [],
      "source": [
        "class Student:\n",
        "  name=\"PJ123\"\n",
        "  marks=50"
      ]
    },
    {
      "cell_type": "code",
      "execution_count": null,
      "metadata": {
        "id": "JXqVkdqIqDSz"
      },
      "outputs": [],
      "source": [
        "id(256)"
      ]
    },
    {
      "cell_type": "code",
      "execution_count": null,
      "metadata": {
        "colab": {
          "base_uri": "https://localhost:8080/"
        },
        "id": "4FuDZszRpiAD",
        "outputId": "c89d7b77-0514-4ea3-a7b7-0d5ae7c05d85"
      },
      "outputs": [],
      "source": [
        "a=255\n",
        "b=255\n",
        "print(a is b)"
      ]
    },
    {
      "cell_type": "code",
      "execution_count": null,
      "metadata": {
        "colab": {
          "base_uri": "https://localhost:8080/"
        },
        "id": "uYMohINFpl9f",
        "outputId": "26fea302-4be4-4181-ee2e-b9f5a4c4fc2a"
      },
      "outputs": [],
      "source": [
        "a=258\n",
        "b=255\n",
        "print(a==b)\n",
        "print(a is b)"
      ]
    },
    {
      "cell_type": "code",
      "execution_count": null,
      "metadata": {
        "id": "ApkNKkb3p2FV"
      },
      "outputs": [],
      "source": [
        "id(a)==id(b)"
      ]
    },
    {
      "cell_type": "code",
      "execution_count": null,
      "metadata": {
        "colab": {
          "base_uri": "https://localhost:8080/"
        },
        "id": "l6vlEYF3q-ck",
        "outputId": "9cadad4f-3fc1-4db0-cb83-5391ed37d1f3"
      },
      "outputs": [],
      "source": [
        "a=(1,2,3)\n",
        "hash(a)"
      ]
    },
    {
      "cell_type": "code",
      "execution_count": null,
      "metadata": {
        "colab": {
          "base_uri": "https://localhost:8080/"
        },
        "id": "tg-orIlprCU6",
        "outputId": "8e860d47-947d-41a4-acb0-bb08387c3a3e"
      },
      "outputs": [],
      "source": [
        "a=\"PJ123\"\n",
        "hash(a)"
      ]
    },
    {
      "cell_type": "code",
      "execution_count": null,
      "metadata": {
        "id": "s4dip2Sbrgal"
      },
      "outputs": [],
      "source": [
        "class A:"
      ]
    }
  ],
  "metadata": {
    "colab": {
      "authorship_tag": "ABX9TyMQDUtGaVlOuIcEkxZzrlxV",
      "include_colab_link": true,
      "provenance": []
    },
    "kernelspec": {
      "display_name": "Python 3",
      "language": "python",
      "name": "python3"
    },
    "language_info": {
      "codemirror_mode": {
        "name": "ipython",
        "version": 3
      },
      "file_extension": ".py",
      "mimetype": "text/x-python",
      "name": "python",
      "nbconvert_exporter": "python",
      "pygments_lexer": "ipython3",
      "version": "3.10.6"
    },
    "vscode": {
      "interpreter": {
        "hash": "63963b3f4c440940f0b94a3100916033a226cb4f45979123153792d60aa56d6a"
      }
    }
  },
  "nbformat": 4,
  "nbformat_minor": 0
}
