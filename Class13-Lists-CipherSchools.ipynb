{
  "cells": [
    {
      "cell_type": "code",
      "execution_count": null,
      "metadata": {
        "colab": {
          "base_uri": "https://localhost:8080/"
        },
        "id": "hsTpB-MJMMPL",
        "outputId": "fa6c445f-b23f-4b02-f5dd-adac64b2b98d"
      },
      "outputs": [],
      "source": [
        "len([1,2,3,4])"
      ]
    },
    {
      "cell_type": "code",
      "execution_count": null,
      "metadata": {
        "colab": {
          "base_uri": "https://localhost:8080/"
        },
        "id": "Y_I0hlIYMM1u",
        "outputId": "fb3fafbd-0875-4810-9763-c3b2f632afbf"
      },
      "outputs": [],
      "source": [
        "[1,2,3]+[4,5,6]"
      ]
    },
    {
      "cell_type": "code",
      "execution_count": null,
      "metadata": {
        "colab": {
          "base_uri": "https://localhost:8080/"
        },
        "id": "li6dODMiMM4x",
        "outputId": "c1252e37-3339-4cf7-92f9-d3b150ad70a9"
      },
      "outputs": [],
      "source": [
        "[1]*4"
      ]
    },
    {
      "cell_type": "code",
      "execution_count": null,
      "metadata": {
        "colab": {
          "base_uri": "https://localhost:8080/"
        },
        "id": "vfitNvfBMM76",
        "outputId": "c4c2dca2-a473-491f-c16d-1a60d4734852"
      },
      "outputs": [],
      "source": [
        "a=[1,2,3,4,5]\n",
        "for x in a:\n",
        "  print(x)"
      ]
    },
    {
      "cell_type": "code",
      "execution_count": null,
      "metadata": {
        "colab": {
          "base_uri": "https://localhost:8080/"
        },
        "id": "MC5Fmee7MM-g",
        "outputId": "41ed3981-56b4-434d-b76e-f4a3ed4f96f2"
      },
      "outputs": [],
      "source": [
        "\"a\" in \"PJ\""
      ]
    },
    {
      "cell_type": "code",
      "execution_count": null,
      "metadata": {
        "colab": {
          "base_uri": "https://localhost:8080/"
        },
        "id": "zSd_78L7MNBY",
        "outputId": "d99074c8-8ad5-44ac-eeee-e35dcdb3b854"
      },
      "outputs": [],
      "source": [
        "1 in[1,2,3,4]"
      ]
    },
    {
      "cell_type": "code",
      "execution_count": null,
      "metadata": {
        "id": "4VXV9t5qMNGk"
      },
      "outputs": [],
      "source": [
        "a = [1,2,3,4,5]"
      ]
    },
    {
      "cell_type": "code",
      "execution_count": null,
      "metadata": {
        "colab": {
          "base_uri": "https://localhost:8080/"
        },
        "id": "EE0ceDaaM-Od",
        "outputId": "c2dc4c87-3339-4785-f2cc-9ce10a60e3ff"
      },
      "outputs": [],
      "source": [
        "a[-1]"
      ]
    },
    {
      "cell_type": "code",
      "execution_count": null,
      "metadata": {
        "id": "1MetUWTLM-WK"
      },
      "outputs": [],
      "source": [
        "a.insert(0,100)"
      ]
    },
    {
      "cell_type": "code",
      "execution_count": null,
      "metadata": {
        "id": "mcffrlzsM-Yx"
      },
      "outputs": [],
      "source": [
        "a=[1,2,3,4]"
      ]
    },
    {
      "cell_type": "code",
      "execution_count": null,
      "metadata": {
        "id": "DaLr51d4M-bX"
      },
      "outputs": [],
      "source": [
        "a.append(5)"
      ]
    },
    {
      "cell_type": "code",
      "execution_count": null,
      "metadata": {
        "id": "pR0bcxanNpgv"
      },
      "outputs": [],
      "source": [
        "a=[1,2,3,4]"
      ]
    },
    {
      "cell_type": "code",
      "execution_count": null,
      "metadata": {
        "colab": {
          "base_uri": "https://localhost:8080/"
        },
        "id": "4sPLGwXiNpjg",
        "outputId": "82e9e3e9-cfeb-4a41-e119-55ff4b88b9c2"
      },
      "outputs": [],
      "source": [
        "a.pop()"
      ]
    },
    {
      "cell_type": "code",
      "execution_count": null,
      "metadata": {
        "id": "UKfeR5HNNpmI"
      },
      "outputs": [],
      "source": [
        "a = [1, 2, 3, 4, 5]"
      ]
    },
    {
      "cell_type": "code",
      "execution_count": null,
      "metadata": {
        "colab": {
          "base_uri": "https://localhost:8080/"
        },
        "id": "8Mg6BY8ENpo_",
        "outputId": "a1a1847c-0dc4-48c2-90df-cc350900ea14"
      },
      "outputs": [],
      "source": [
        "a.pop(2)"
      ]
    },
    {
      "cell_type": "code",
      "execution_count": null,
      "metadata": {
        "colab": {
          "base_uri": "https://localhost:8080/"
        },
        "id": "bsZ9qIGZNprn",
        "outputId": "ca2e4423-98c8-4ec6-d6fc-42ca09f6a4bb"
      },
      "outputs": [],
      "source": [
        "a"
      ]
    },
    {
      "cell_type": "code",
      "execution_count": null,
      "metadata": {
        "id": "C8hP6IWZOZx0"
      },
      "outputs": [],
      "source": [
        "a=[1,2,3,4]"
      ]
    },
    {
      "cell_type": "code",
      "execution_count": null,
      "metadata": {
        "id": "V2zfcqYiOZ1Y"
      },
      "outputs": [],
      "source": [
        "a=[\"CSSS\",\"LP2\",\"QWERTY\",\"LPU\"]"
      ]
    },
    {
      "cell_type": "code",
      "execution_count": null,
      "metadata": {
        "id": "y9uWwvcpOZ4i"
      },
      "outputs": [],
      "source": [
        "a.remove(\"LP2\")"
      ]
    },
    {
      "cell_type": "code",
      "execution_count": null,
      "metadata": {
        "colab": {
          "base_uri": "https://localhost:8080/"
        },
        "id": "C78qgBHTOZ62",
        "outputId": "5fb5d78e-d9dd-4b08-8277-73c515d002ae"
      },
      "outputs": [],
      "source": [
        "a"
      ]
    },
    {
      "cell_type": "code",
      "execution_count": null,
      "metadata": {
        "colab": {
          "base_uri": "https://localhost:8080/",
          "height": 198
        },
        "id": "pU2gFlKlOZ9d",
        "outputId": "c3b36302-fa69-4b83-9c39-1c6a97746124"
      },
      "outputs": [],
      "source": [
        "a.remove(\"LPU\")"
      ]
    },
    {
      "cell_type": "code",
      "execution_count": null,
      "metadata": {
        "colab": {
          "base_uri": "https://localhost:8080/"
        },
        "id": "SwWXQwhfOZ_z",
        "outputId": "40990699-e142-4ab0-e4b4-e5056dda894a"
      },
      "outputs": [],
      "source": [
        "a"
      ]
    },
    {
      "cell_type": "code",
      "execution_count": null,
      "metadata": {
        "id": "j90AZYMhOaEx"
      },
      "outputs": [],
      "source": [
        "a=[4,1,3,2,6,4]"
      ]
    },
    {
      "cell_type": "code",
      "execution_count": null,
      "metadata": {
        "id": "ME-fF-PKPLdy"
      },
      "outputs": [],
      "source": [
        "a.sort()"
      ]
    },
    {
      "cell_type": "code",
      "execution_count": null,
      "metadata": {
        "colab": {
          "base_uri": "https://localhost:8080/"
        },
        "id": "BEnAzkWZPLgz",
        "outputId": "13f6796d-507f-4621-84da-e829fa9640cc"
      },
      "outputs": [],
      "source": [
        "a"
      ]
    },
    {
      "cell_type": "code",
      "execution_count": null,
      "metadata": {
        "id": "OHFoP7TIPLjb"
      },
      "outputs": [],
      "source": [
        "b=[4,1,3,2,6,4]"
      ]
    },
    {
      "cell_type": "code",
      "execution_count": null,
      "metadata": {
        "colab": {
          "base_uri": "https://localhost:8080/"
        },
        "id": "s3nXQUpKPLlw",
        "outputId": "8416f426-57b9-46ed-ca9f-758b50d7d648"
      },
      "outputs": [],
      "source": [
        "sorted(b)"
      ]
    },
    {
      "cell_type": "code",
      "execution_count": null,
      "metadata": {
        "colab": {
          "base_uri": "https://localhost:8080/"
        },
        "id": "P9Nd1Nr-PLob",
        "outputId": "b923d413-2617-43f9-b3f0-f64fb57f0cd2"
      },
      "outputs": [],
      "source": [
        "b"
      ]
    },
    {
      "cell_type": "code",
      "execution_count": null,
      "metadata": {
        "id": "7214CAjRPLq9"
      },
      "outputs": [],
      "source": [
        "a=[1,2,3,4,5]"
      ]
    },
    {
      "cell_type": "code",
      "execution_count": null,
      "metadata": {
        "id": "KVXZnhDrPLtl"
      },
      "outputs": [],
      "source": [
        "a.reverse()"
      ]
    },
    {
      "cell_type": "code",
      "execution_count": null,
      "metadata": {
        "colab": {
          "base_uri": "https://localhost:8080/"
        },
        "id": "x7ifbANoPLwK",
        "outputId": "0cbaa055-c176-42cf-88a5-f661d3132841"
      },
      "outputs": [],
      "source": [
        "a"
      ]
    },
    {
      "cell_type": "code",
      "execution_count": null,
      "metadata": {
        "id": "RyU9XN45OaHn"
      },
      "outputs": [],
      "source": [
        "b=[1,2,3,4,5]"
      ]
    },
    {
      "cell_type": "code",
      "execution_count": null,
      "metadata": {
        "colab": {
          "base_uri": "https://localhost:8080/"
        },
        "id": "V62zNjbSPulE",
        "outputId": "6bc51403-ca76-40f4-e7d2-ade424fbbcb5"
      },
      "outputs": [],
      "source": [
        "for x in reversed(b):\n",
        "  print(x)"
      ]
    },
    {
      "cell_type": "code",
      "execution_count": null,
      "metadata": {
        "colab": {
          "base_uri": "https://localhost:8080/"
        },
        "id": "JoMYwfolPunj",
        "outputId": "0a9a7715-7c13-4379-da86-87f219a1af8d"
      },
      "outputs": [],
      "source": [
        "b"
      ]
    },
    {
      "cell_type": "code",
      "execution_count": null,
      "metadata": {
        "id": "4ypW5qrYQZLi"
      },
      "outputs": [],
      "source": [
        "for i ,x in enumerate(a):\n",
        "  pass"
      ]
    },
    {
      "cell_type": "code",
      "execution_count": null,
      "metadata": {
        "id": "IUpfjkgKQZJs"
      },
      "outputs": [],
      "source": [
        "def sqr(x):\n",
        "  return x**2"
      ]
    },
    {
      "cell_type": "code",
      "execution_count": null,
      "metadata": {
        "colab": {
          "base_uri": "https://localhost:8080/"
        },
        "id": "beoifyNXQZQf",
        "outputId": "b2c562f8-0e0f-46ee-a1e3-328a1171bbb9"
      },
      "outputs": [],
      "source": [
        "for x in map(lambda x: x**2,a):\n",
        "  print(x)"
      ]
    },
    {
      "cell_type": "code",
      "execution_count": null,
      "metadata": {
        "colab": {
          "base_uri": "https://localhost:8080/"
        },
        "id": "mcAdm1fAReUd",
        "outputId": "3f056880-5d86-411b-e30d-c9fe6013cf06"
      },
      "outputs": [
        {
          "data": {
            "text/plain": [
              "1"
            ]
          },
          "execution_count": 77,
          "metadata": {},
          "output_type": "execute_result"
        }
      ],
      "source": [
        "int(\"1\")"
      ]
    },
    {
      "cell_type": "code",
      "execution_count": null,
      "metadata": {
        "colab": {
          "base_uri": "https://localhost:8080/"
        },
        "id": "KqjNsbcSQZHn",
        "outputId": "87cb97ae-b05d-4d0a-a274-9df86792a7d3"
      },
      "outputs": [],
      "source": [
        "a=list(map(int,input().split()))"
      ]
    },
    {
      "cell_type": "code",
      "execution_count": null,
      "metadata": {
        "colab": {
          "base_uri": "https://localhost:8080/"
        },
        "id": "cn2JGStTRLk1",
        "outputId": "dcbe2901-4683-4afa-a29f-97d38c46ab6f"
      },
      "outputs": [],
      "source": [
        "a"
      ]
    },
    {
      "cell_type": "code",
      "execution_count": null,
      "metadata": {
        "colab": {
          "base_uri": "https://localhost:8080/",
          "height": 37
        },
        "id": "HdSC6KJuRLnn",
        "outputId": "7476419a-dc06-477d-acb5-cc51d5c81983"
      },
      "outputs": [],
      "source": [
        "a[0]"
      ]
    },
    {
      "cell_type": "code",
      "execution_count": null,
      "metadata": {
        "colab": {
          "base_uri": "https://localhost:8080/",
          "height": 37
        },
        "id": "IbSVTAmuRqb2",
        "outputId": "5861bed7-5603-4107-ae4e-70b7b304060f"
      },
      "outputs": [],
      "source": [
        "\",\".join([\"QWERT\",\"LPU\",\"LP2\"])"
      ]
    }
  ],
  "metadata": {
    "colab": {
      "include_colab_link": true,
      "provenance": []
    },
    "kernelspec": {
      "display_name": "Python 3",
      "language": "python",
      "name": "python3"
    },
    "language_info": {
      "name": "python",
      "version": "3.10.6 (tags/v3.10.6:9c7b4bd, Aug  1 2022, 21:53:49) [MSC v.1932 64 bit (AMD64)]"
    },
    "vscode": {
      "interpreter": {
        "hash": "63963b3f4c440940f0b94a3100916033a226cb4f45979123153792d60aa56d6a"
      }
    }
  },
  "nbformat": 4,
  "nbformat_minor": 0
}
