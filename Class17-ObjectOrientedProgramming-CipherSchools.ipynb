{
  "cells": [
    {
      "cell_type": "code",
      "execution_count": 1,
      "metadata": {
        "id": "KL3ueidENTJd"
      },
      "outputs": [],
      "source": [
        "student1 = {\n",
        "    \"name\":\"QWRTY\",\n",
        "    \"marks\": 50\n",
        "}\n",
        "student2 = {\n",
        "    \"name\": \"LPU2\",\n",
        "    \"marks\": 100\n",
        "}"
      ]
    },
    {
      "cell_type": "code",
      "execution_count": null,
      "metadata": {
        "colab": {
          "base_uri": "https://localhost:8080/"
        },
        "id": "rdXhxGYANTMF",
        "outputId": "0c9206a7-51d5-4b05-a45b-36b09ddb290b"
      },
      "outputs": [],
      "source": [
        "print()"
      ]
    },
    {
      "cell_type": "code",
      "execution_count": null,
      "metadata": {
        "colab": {
          "base_uri": "https://localhost:8080/",
          "height": 198
        },
        "id": "dxuicpZ-On5-",
        "outputId": "aad15533-fa43-4956-f199-32f217c2894a"
      },
      "outputs": [],
      "source": [
        "a()"
      ]
    },
    {
      "cell_type": "code",
      "execution_count": null,
      "metadata": {
        "colab": {
          "base_uri": "https://localhost:8080/"
        },
        "id": "s_aa_zXENTOs",
        "outputId": "fbc91ffa-b75a-46a3-d9d4-73cf0c2e3b45"
      },
      "outputs": [],
      "source": [
        "class person:\n",
        "  pass\n",
        "\n",
        "p = person()\n",
        "print(p)"
      ]
    },
    {
      "cell_type": "code",
      "execution_count": null,
      "metadata": {
        "colab": {
          "base_uri": "https://localhost:8080/",
          "height": 37
        },
        "id": "rJIG8RUnNTRD",
        "outputId": "ee1925e0-5c0e-46dc-f22d-cd0a3a6ff7af"
      },
      "outputs": [],
      "source": [
        "hex(id(p))"
      ]
    },
    {
      "cell_type": "code",
      "execution_count": null,
      "metadata": {
        "id": "oteimJHMNTWP"
      },
      "outputs": [],
      "source": [
        "a=1"
      ]
    },
    {
      "cell_type": "code",
      "execution_count": null,
      "metadata": {
        "colab": {
          "base_uri": "https://localhost:8080/",
          "height": 198
        },
        "id": "9dstxCWWNTY3",
        "outputId": "f4768c49-bf38-4fa7-8e94-9bf71c2ba994"
      },
      "outputs": [],
      "source": [
        "a.square"
      ]
    },
    {
      "cell_type": "code",
      "execution_count": null,
      "metadata": {
        "colab": {
          "base_uri": "https://localhost:8080/"
        },
        "id": "FpCc8LljNTd0",
        "outputId": "5031f034-8a60-44b9-adbb-90d5a43be659"
      },
      "outputs": [],
      "source": [
        "class person:\n",
        "  name=\"QWERT\"\n",
        "  def say_hi(self):\n",
        "    self.name=\"LPU\"\n",
        "    print(\"Hello,how are you\"+self.name +\"2\")\n",
        "\n",
        "p=person()\n",
        "\n",
        "p.say_hi\n",
        "person.say_hi(p)"
      ]
    },
    {
      "cell_type": "code",
      "execution_count": null,
      "metadata": {
        "colab": {
          "base_uri": "https://localhost:8080/"
        },
        "id": "W0I4d3MWNTgK",
        "outputId": "2b7833a6-a6c4-4a35-dc9d-4d450350b008"
      },
      "outputs": [],
      "source": [
        "class person:\n",
        "  name=\"QWERTY\"\n",
        "\n",
        "  def say_hi(this):\n",
        "    print(f\"Hello Everyone : I am {this.name}\" )\n",
        "\n",
        "p=person()\n",
        "\n",
        "p.say_hi #method cell\n",
        "person.say_hi(p) # function call"
      ]
    }
  ],
  "metadata": {
    "colab": {
      "include_colab_link": true,
      "provenance": []
    },
    "kernelspec": {
      "display_name": "Python 3",
      "language": "python",
      "name": "python3"
    },
    "language_info": {
      "codemirror_mode": {
        "name": "ipython",
        "version": 3
      },
      "file_extension": ".py",
      "mimetype": "text/x-python",
      "name": "python",
      "nbconvert_exporter": "python",
      "pygments_lexer": "ipython3",
      "version": "3.10.6"
    },
    "vscode": {
      "interpreter": {
        "hash": "63963b3f4c440940f0b94a3100916033a226cb4f45979123153792d60aa56d6a"
      }
    }
  },
  "nbformat": 4,
  "nbformat_minor": 0
}
