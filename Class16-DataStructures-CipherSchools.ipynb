{
  "cells": [
    {
      "cell_type": "code",
      "execution_count": null,
      "metadata": {
        "colab": {
          "base_uri": "https://localhost:8080/"
        },
        "id": "h6ZFXHSBue0F",
        "outputId": "51e069f7-d7b9-40ab-b270-d63780b72dba"
      },
      "outputs": [],
      "source": [
        "list(range(5))"
      ]
    },
    {
      "cell_type": "code",
      "execution_count": null,
      "metadata": {
        "colab": {
          "base_uri": "https://localhost:8080/"
        },
        "id": "dkccR8_aujzS",
        "outputId": "3b308184-0c1c-44ec-e6a5-f4aafb8f5313"
      },
      "outputs": [],
      "source": [
        "list(map(lambda x: x**2 ,range(5)))"
      ]
    },
    {
      "cell_type": "code",
      "execution_count": null,
      "metadata": {
        "colab": {
          "base_uri": "https://localhost:8080/"
        },
        "id": "CecAwsFBumz_",
        "outputId": "49e135d1-aeed-4267-f5c8-0b44f5b4da01"
      },
      "outputs": [],
      "source": [
        "d=[]\n",
        "for i in range(5):\n",
        "  d.append(i**2)\n",
        "print(d)"
      ]
    },
    {
      "cell_type": "code",
      "execution_count": null,
      "metadata": {
        "colab": {
          "base_uri": "https://localhost:8080/"
        },
        "id": "ez6ODjXmunbS",
        "outputId": "9f629898-4730-490c-a06a-1fa025abadcc"
      },
      "outputs": [],
      "source": [
        "d=[]\n",
        "for i in range(5):\n",
        "  temp =[]\n",
        "  for j in range(5):\n",
        "    temp.append(j)\n",
        "  d.append(temp)\n",
        "print(d)"
      ]
    },
    {
      "cell_type": "code",
      "execution_count": null,
      "metadata": {
        "colab": {
          "base_uri": "https://localhost:8080/"
        },
        "id": "iCcupRG_urhE",
        "outputId": "c077e1e9-b267-49b2-8c82-a54e95fba7f5"
      },
      "outputs": [],
      "source": [
        "[i for i in range(5)]"
      ]
    },
    {
      "cell_type": "code",
      "execution_count": null,
      "metadata": {
        "colab": {
          "base_uri": "https://localhost:8080/"
        },
        "id": "51tjH-PAuviA",
        "outputId": "7a5e1b95-7aa8-4329-a905-a86ee1d846dc"
      },
      "outputs": [],
      "source": [
        "[[j for j in range(5)] for i in range(5)]"
      ]
    },
    {
      "cell_type": "code",
      "execution_count": null,
      "metadata": {
        "colab": {
          "base_uri": "https://localhost:8080/"
        },
        "id": "QlXeT5vhvPje",
        "outputId": "0b436eef-3484-466b-abd3-300eb6760f39"
      },
      "outputs": [],
      "source": [
        "n=5\n",
        "[[max(i+1,j+1 ,n-i ,n -j) for j in range(n) ] for i in range(n)]"
      ]
    },
    {
      "cell_type": "code",
      "execution_count": null,
      "metadata": {
        "colab": {
          "base_uri": "https://localhost:8080/"
        },
        "id": "Dvjyyw7X7Gs4",
        "outputId": "a20a17d7-42c0-4cc6-bdcc-6a6a34694cb5"
      },
      "outputs": [],
      "source": [
        "a=[]\n",
        "for i in range(3):\n",
        "  for j in range(3):\n",
        "    a.append(j)\n",
        "print(a) "
      ]
    },
    {
      "cell_type": "code",
      "execution_count": null,
      "metadata": {
        "colab": {
          "base_uri": "https://localhost:8080/"
        },
        "id": "-tDrQd4B7gap",
        "outputId": "5a40f56c-f7fd-4667-cffd-36810f8c501a"
      },
      "outputs": [],
      "source": [
        "[j for i in range(3) for j in range(3)]"
      ]
    },
    {
      "cell_type": "code",
      "execution_count": null,
      "metadata": {
        "colab": {
          "base_uri": "https://localhost:8080/"
        },
        "id": "ze72p5Ue78A1",
        "outputId": "6084e965-8483-4231-c9cd-6bcd09a83d94"
      },
      "outputs": [],
      "source": [
        "[[(i,j) for j in range(2)] for i in range(2)]"
      ]
    },
    {
      "cell_type": "code",
      "execution_count": null,
      "metadata": {
        "colab": {
          "base_uri": "https://localhost:8080/"
        },
        "id": "tg_WMG486uHQ",
        "outputId": "8bd0402d-1226-43bf-8209-cbffd61b08b8"
      },
      "outputs": [],
      "source": [
        "[i for i in range(5)]"
      ]
    },
    {
      "cell_type": "code",
      "execution_count": null,
      "metadata": {
        "colab": {
          "base_uri": "https://localhost:8080/"
        },
        "id": "INhz_2Wy8UB9",
        "outputId": "32774e47-d61f-459c-f110-9753ff41301d"
      },
      "outputs": [],
      "source": [
        "{\n",
        "    2:4,\n",
        "    3:9,\n",
        "    4:16\n",
        "}"
      ]
    },
    {
      "cell_type": "code",
      "execution_count": null,
      "metadata": {
        "colab": {
          "base_uri": "https://localhost:8080/"
        },
        "id": "6E8f5WRE8jKl",
        "outputId": "2c75ad59-fc39-4f15-d15a-a2cc747cb625"
      },
      "outputs": [],
      "source": [
        "a={i:i**2 for i in range(5)}\n",
        "a"
      ]
    },
    {
      "cell_type": "code",
      "execution_count": null,
      "metadata": {
        "colab": {
          "base_uri": "https://localhost:8080/"
        },
        "id": "-BusqovT87aq",
        "outputId": "97162da3-0bdf-43c1-adef-48a9fc4cef7c"
      },
      "outputs": [],
      "source": [
        "type(a)"
      ]
    },
    {
      "cell_type": "code",
      "execution_count": null,
      "metadata": {
        "colab": {
          "base_uri": "https://localhost:8080/"
        },
        "id": "lvA8khgN8tes",
        "outputId": "dd6065db-36b1-475e-a43b-3e538b46ad50"
      },
      "outputs": [],
      "source": [
        "b={i for i  in range(5)}\n",
        "b"
      ]
    },
    {
      "cell_type": "code",
      "execution_count": null,
      "metadata": {
        "colab": {
          "base_uri": "https://localhost:8080/"
        },
        "id": "KMKToaN79GMD",
        "outputId": "0c3a945b-bf6d-4ad9-988f-e7f828714839"
      },
      "outputs": [],
      "source": [
        "type(b)"
      ]
    },
    {
      "cell_type": "code",
      "execution_count": null,
      "metadata": {
        "colab": {
          "base_uri": "https://localhost:8080/"
        },
        "id": "zDjsQe6L9NHF",
        "outputId": "9a471880-769e-4e76-bbcc-fad210b0ec25"
      },
      "outputs": [],
      "source": [
        "a= ( i for i in range(5))\n",
        "type(a)"
      ]
    },
    {
      "cell_type": "code",
      "execution_count": null,
      "metadata": {
        "colab": {
          "base_uri": "https://localhost:8080/"
        },
        "id": "oCeOLUlr9gcS",
        "outputId": "b2d7285c-5be1-4eb3-82bf-db6f6c8e3a0a"
      },
      "outputs": [],
      "source": [
        "a"
      ]
    },
    {
      "cell_type": "code",
      "execution_count": null,
      "metadata": {
        "colab": {
          "base_uri": "https://localhost:8080/",
          "height": 182
        },
        "id": "vxJFJxmI9rk-",
        "outputId": "6e30a7a5-a94b-4e08-b1b4-7f743e85bd45"
      },
      "outputs": [],
      "source": [
        "it = iter(a)\n",
        "next(it)"
      ]
    },
    {
      "cell_type": "code",
      "execution_count": null,
      "metadata": {
        "colab": {
          "base_uri": "https://localhost:8080/"
        },
        "id": "0vRk_qeE9i9f",
        "outputId": "a02bd39e-dc4a-4ddd-917a-3042bb96e87a"
      },
      "outputs": [],
      "source": [
        "for x in a:\n",
        "  print(x)"
      ]
    }
  ],
  "metadata": {
    "colab": {
      "authorship_tag": "ABX9TyMDFFaHqrJvcU5/3aissRQc",
      "include_colab_link": true,
      "provenance": []
    },
    "kernelspec": {
      "display_name": "Python 3",
      "language": "python",
      "name": "python3"
    },
    "language_info": {
      "name": "python",
      "version": "3.10.6 (tags/v3.10.6:9c7b4bd, Aug  1 2022, 21:53:49) [MSC v.1932 64 bit (AMD64)]"
    },
    "vscode": {
      "interpreter": {
        "hash": "63963b3f4c440940f0b94a3100916033a226cb4f45979123153792d60aa56d6a"
      }
    }
  },
  "nbformat": 4,
  "nbformat_minor": 0
}
