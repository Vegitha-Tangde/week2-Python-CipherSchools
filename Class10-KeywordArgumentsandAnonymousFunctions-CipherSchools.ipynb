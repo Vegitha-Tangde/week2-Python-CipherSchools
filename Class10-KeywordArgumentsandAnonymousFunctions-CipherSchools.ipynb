{
  "cells": [
    {
      "cell_type": "code",
      "execution_count": null,
      "metadata": {
        "colab": {
          "base_uri": "https://localhost:8080/"
        },
        "id": "3-0onE_PK1-Y",
        "outputId": "4ac6721f-517a-4e34-f85b-bbbe433f3afb"
      },
      "outputs": [],
      "source": [
        "def func(a , b=5 , c=10):\n",
        "  print(\"a is\", a,'and b is ',b,'and c is ',c)\n",
        "func(3,7)\n",
        "func(25 ,c=24)\n",
        "func(c=50 ,a=100)"
      ]
    },
    {
      "cell_type": "code",
      "execution_count": null,
      "metadata": {
        "colab": {
          "base_uri": "https://localhost:8080/"
        },
        "id": "GFd-862SOMqZ",
        "outputId": "a1e84f8b-8439-4629-be8a-aeea0816bef6"
      },
      "outputs": [],
      "source": [
        "print(1,2,3,4,5,6,sep=\",\")"
      ]
    },
    {
      "cell_type": "code",
      "execution_count": null,
      "metadata": {
        "colab": {
          "base_uri": "https://localhost:8080/"
        },
        "id": "SFZZFFYNOekV",
        "outputId": "db9bae25-ee7c-4745-e5ef-710f218f01d1"
      },
      "outputs": [],
      "source": [
        "def func(a,b,c):\n",
        "  print(a)\n",
        "  print(b)\n",
        "  print(c)\n",
        "func(1,2,3)"
      ]
    },
    {
      "cell_type": "code",
      "execution_count": null,
      "metadata": {
        "colab": {
          "base_uri": "https://localhost:8080/"
        },
        "id": "suiFTV8_O0aQ",
        "outputId": "e5fbe3fd-aa33-4e2e-e3b8-4178423e08ed"
      },
      "outputs": [],
      "source": [
        "func(b=2,c=3,a=1)"
      ]
    },
    {
      "cell_type": "code",
      "execution_count": null,
      "metadata": {
        "id": "gaaJtgpIO9v9"
      },
      "outputs": [],
      "source": [
        "def func():\n",
        "  print(\"hello\")"
      ]
    },
    {
      "cell_type": "code",
      "execution_count": null,
      "metadata": {
        "id": "TsoIQnUGPQ0k"
      },
      "outputs": [],
      "source": [
        "def func(a):\n",
        "  print(a)"
      ]
    },
    {
      "cell_type": "code",
      "execution_count": null,
      "metadata": {
        "colab": {
          "base_uri": "https://localhost:8080/"
        },
        "id": "ISbKkeIePcDN",
        "outputId": "0be6f226-ac8e-43ba-9631-1c602fb0d20c"
      },
      "outputs": [],
      "source": [
        "def hello():\n",
        "  print(\"hello world !\")\n",
        "a=1\n",
        "a=hello\n",
        "a()"
      ]
    },
    {
      "cell_type": "code",
      "execution_count": null,
      "metadata": {
        "colab": {
          "base_uri": "https://localhost:8080/"
        },
        "id": "0dI8-GHsP18u",
        "outputId": "6b253984-bc51-4dfc-9169-fc143987d5ba"
      },
      "outputs": [],
      "source": [
        "type(hello)"
      ]
    },
    {
      "cell_type": "code",
      "execution_count": null,
      "metadata": {
        "colab": {
          "base_uri": "https://localhost:8080/"
        },
        "id": "Y-kWbp7aQNxA",
        "outputId": "9667b911-44c0-4c35-c01a-26737a5b198f"
      },
      "outputs": [],
      "source": [
        "hello =2\n",
        "print(hello)"
      ]
    },
    {
      "cell_type": "code",
      "execution_count": null,
      "metadata": {
        "colab": {
          "base_uri": "https://localhost:8080/"
        },
        "id": "lhEfTlbSQo0Q",
        "outputId": "58f788ca-38a5-445a-cb45-45d55b1dbf73"
      },
      "outputs": [],
      "source": [
        "def hello():\n",
        "  print(\"hello world !\")\n",
        "  return 1\n",
        "hello()"
      ]
    },
    {
      "cell_type": "code",
      "execution_count": null,
      "metadata": {
        "colab": {
          "base_uri": "https://localhost:8080/"
        },
        "id": "fKuH1o3KQ2t0",
        "outputId": "146649be-44c8-4deb-8bb0-9325790e1063"
      },
      "outputs": [],
      "source": [
        "hello"
      ]
    },
    {
      "cell_type": "code",
      "execution_count": null,
      "metadata": {
        "colab": {
          "base_uri": "https://localhost:8080/",
          "height": 130
        },
        "id": "nw7vN2qLQ5Ve",
        "outputId": "61339a52-570a-429e-f0e9-cf7c8f0072d9"
      },
      "outputs": [],
      "source": [
        "def func(a,b=10 ,c):\n",
        "  print(a,b,c)"
      ]
    },
    {
      "cell_type": "code",
      "execution_count": null,
      "metadata": {
        "colab": {
          "base_uri": "https://localhost:8080/"
        },
        "id": "YgpTRaZmRbBS",
        "outputId": "8c03146f-acd9-4e5b-b194-c6a0e24bcd67"
      },
      "outputs": [],
      "source": [
        "print(1,2,3,4,5,6)"
      ]
    },
    {
      "cell_type": "code",
      "execution_count": null,
      "metadata": {
        "colab": {
          "base_uri": "https://localhost:8080/"
        },
        "id": "jOzLhgVxSIhG",
        "outputId": "d8c649db-2e2c-4c15-d9f1-425b81451cc2"
      },
      "outputs": [],
      "source": [
        "def func(a,b):\n",
        "  print(a,b)\n",
        "func(1,2)"
      ]
    },
    {
      "cell_type": "code",
      "execution_count": null,
      "metadata": {
        "colab": {
          "base_uri": "https://localhost:8080/"
        },
        "id": "CEPw_OxqVPgO",
        "outputId": "ac35b56b-587d-461d-a080-713a4839c3fc"
      },
      "outputs": [],
      "source": [
        "def func(a=1 , b=2):\n",
        "  print(a,b)\n",
        "func()\n",
        "func(1)\n",
        "func(3,4)"
      ]
    },
    {
      "cell_type": "code",
      "execution_count": null,
      "metadata": {
        "colab": {
          "base_uri": "https://localhost:8080/"
        },
        "id": "oUGhZ8fPVo7f",
        "outputId": "fa0ac1d1-e6a2-4528-8c33-cfb64c90fcec"
      },
      "outputs": [],
      "source": [
        "def func(*a):\n",
        "  print(a)\n",
        "func(1,2,3,4)"
      ]
    },
    {
      "cell_type": "code",
      "execution_count": null,
      "metadata": {
        "colab": {
          "base_uri": "https://localhost:8080/"
        },
        "id": "-Ejdo6HFYtgY",
        "outputId": "3de7d6bb-b58c-4317-8cf5-37ac9a0bb0b8"
      },
      "outputs": [],
      "source": [
        "def func(a,b, *c):\n",
        "  print(a)\n",
        "  print(b)\n",
        "  print(c)\n",
        "func(1,2,3,4,\"jatin \",8)"
      ]
    },
    {
      "cell_type": "code",
      "execution_count": null,
      "metadata": {
        "colab": {
          "base_uri": "https://localhost:8080/",
          "height": 200
        },
        "id": "hTR0IoOZY6My",
        "outputId": "846e3ccc-ace4-4f0c-a03f-0c233f8f6825"
      },
      "outputs": [],
      "source": [
        "def func(a,b,*c,d):\n",
        "  print(a)\n",
        "  print(b)\n",
        "  print(c)\n",
        "  print(d)\n",
        "func(1,2,3,4,5,6,6,7,8,9,6,4)"
      ]
    },
    {
      "cell_type": "code",
      "execution_count": null,
      "metadata": {
        "colab": {
          "base_uri": "https://localhost:8080/"
        },
        "id": "FltdLya0ZbPg",
        "outputId": "51754187-92c6-496c-bf54-7f7e8256a768"
      },
      "outputs": [],
      "source": [
        "def func(a,b,*c,d):\n",
        "  print(a)\n",
        "  print(b)\n",
        "  print(c)\n",
        "  print(d)\n",
        "func(1,2,3,4,5,6,6,7,8,9,6,d=4)"
      ]
    },
    {
      "cell_type": "code",
      "execution_count": null,
      "metadata": {
        "colab": {
          "base_uri": "https://localhost:8080/"
        },
        "id": "K5tgxywaZk3N",
        "outputId": "c112fc23-49f3-45c6-edbc-ca5a4dcbdfed"
      },
      "outputs": [],
      "source": [
        "def func(a,b,*c,d,e=\"PJ\"):\n",
        "  print(a)\n",
        "  print(b)\n",
        "  print(c)\n",
        "  print(d)\n",
        "  print(e)\n",
        "func(1,2,3,4,5,6,d=\"some\")\n"
      ]
    },
    {
      "cell_type": "code",
      "execution_count": null,
      "metadata": {
        "colab": {
          "base_uri": "https://localhost:8080/"
        },
        "id": "cwBbQ-1aaFsg",
        "outputId": "28865478-40d7-4df4-c298-e285f56fd784"
      },
      "outputs": [],
      "source": [
        "def func(a,b,*c,d,e=\"LP3\"):\n",
        "  print(a)\n",
        "  print(b)\n",
        "  print(c)\n",
        "  print(d)\n",
        "  print(e)\n",
        "func(1,2,3,4,5,6,d=\"some\",e=\"asdf\")"
      ]
    },
    {
      "cell_type": "code",
      "execution_count": null,
      "metadata": {
        "colab": {
          "base_uri": "https://localhost:8080/"
        },
        "id": "EMB1MdxcaLS4",
        "outputId": "75bdcc6c-cd24-490b-dc65-8f2814bf6fd8"
      },
      "outputs": [],
      "source": [
        "def func(**k):\n",
        "  print(k)\n",
        "func(name=\"keratin\")"
      ]
    },
    {
      "cell_type": "code",
      "execution_count": 29,
      "metadata": {
        "id": "3caFaEkTajpC"
      },
      "outputs": [],
      "source": [
        "def func(a,b=1,*c,d,e=\"\",**k):\n",
        "  print(k)"
      ]
    },
    {
      "cell_type": "code",
      "execution_count": null,
      "metadata": {
        "colab": {
          "base_uri": "https://localhost:8080/"
        },
        "id": "aYweINSobZ8O",
        "outputId": "7e1a31fe-de54-4de8-83b1-d382aff511af"
      },
      "outputs": [],
      "source": [
        "lambda a,b: a+b\n",
        "d(2,6)"
      ]
    },
    {
      "cell_type": "code",
      "execution_count": null,
      "metadata": {
        "colab": {
          "base_uri": "https://localhost:8080/"
        },
        "id": "04ZcuWzvcDif",
        "outputId": "773d9554-5c7d-40c7-d2fd-14c70ebe2b98"
      },
      "outputs": [],
      "source": [
        "sorted([4,8,1,0,7,5])"
      ]
    },
    {
      "cell_type": "code",
      "execution_count": null,
      "metadata": {
        "colab": {
          "base_uri": "https://localhost:8080/"
        },
        "id": "hrZRbyuycd9x",
        "outputId": "0b03d802-19e7-4a65-f894-409f840e7e57"
      },
      "outputs": [],
      "source": [
        "a=1\n",
        "b=2\n",
        "c=print(a+b)\n",
        "print(c)"
      ]
    },
    {
      "cell_type": "code",
      "execution_count": null,
      "metadata": {
        "colab": {
          "base_uri": "https://localhost:8080/"
        },
        "id": "CBfYMtpydaYL",
        "outputId": "9752c9a3-2bd5-4307-933f-5dc169bcfeab"
      },
      "outputs": [],
      "source": [
        "def func(a):\n",
        "  a()\n",
        "func(a=lambda:print(\"hello\"))"
      ]
    }
  ],
  "metadata": {
    "colab": {
      "authorship_tag": "ABX9TyOJXkvcWmrN8Lj+RnDwdmlm",
      "include_colab_link": true,
      "provenance": []
    },
    "kernelspec": {
      "display_name": "Python 3",
      "language": "python",
      "name": "python3"
    },
    "language_info": {
      "name": "python",
      "version": "3.10.6 (tags/v3.10.6:9c7b4bd, Aug  1 2022, 21:53:49) [MSC v.1932 64 bit (AMD64)]"
    },
    "vscode": {
      "interpreter": {
        "hash": "63963b3f4c440940f0b94a3100916033a226cb4f45979123153792d60aa56d6a"
      }
    }
  },
  "nbformat": 4,
  "nbformat_minor": 0
}
