{
  "cells": [
    {
      "cell_type": "code",
      "execution_count": null,
      "metadata": {
        "colab": {
          "base_uri": "https://localhost:8080/"
        },
        "id": "ndAPWMyH4VwS",
        "outputId": "cd791f25-7a3a-4ca6-c1e6-2aff9c99b473"
      },
      "outputs": [],
      "source": [
        "a=5\n",
        "b=7\n",
        "print(a+b)\n",
        "print(\"waiting...\")\n",
        "print(\"waiting...\")\n",
        "print(\"waiting...\")\n",
        "\n",
        "print(a-b)\n",
        "print(\"waiting...\")\n",
        "print(\"waiting...\")\n",
        "print(\"waiting...\")\n",
        "\n",
        "print(a*b)\n",
        "print(\"waiting...\")\n",
        "print(\"waiting...\")\n",
        "print(\"waiting...\")"
      ]
    },
    {
      "cell_type": "code",
      "execution_count": null,
      "metadata": {
        "id": "Zv6LD46NNAen"
      },
      "outputs": [],
      "source": [
        "a=5\n",
        "b=7\n",
        "print(a+b)\n",
        "print(\"loading...\")\n",
        "print(\"loading...\")\n",
        "print(\"loading...\")\n",
        "\n",
        "print(a-b)\n",
        "print(\"loading...\")\n",
        "print(\"loading...\")\n",
        "print(\"loading...\")\n",
        "\n",
        "print(a*b)\n",
        "print(\"loading...\")\n",
        "print(\"loading...\")\n",
        "print(\"loading...\")\n"
      ]
    },
    {
      "cell_type": "code",
      "execution_count": null,
      "metadata": {
        "id": "HM32sfzJM1cV"
      },
      "outputs": [],
      "source": [
        "x=6\n",
        "x=\"QWERTY\"\n",
        "x=1.5\n",
        "x=print"
      ]
    },
    {
      "cell_type": "code",
      "execution_count": null,
      "metadata": {
        "colab": {
          "base_uri": "https://localhost:8080/"
        },
        "id": "gsby4rrlNhql",
        "outputId": "bde7218b-d299-4929-d0ae-2db59ff08917"
      },
      "outputs": [],
      "source": [
        "def shoow_loading():\n",
        "  for i in range(3):\n",
        "    print(\"loading....\")\n",
        "a=5\n",
        "b=7\n",
        "print(a+b)\n",
        "shoow_loading()\n",
        "\n",
        "print(a-b)\n",
        "shoow_loading()\n",
        "\n",
        "print(a*b)\n",
        "shoow_loading()"
      ]
    },
    {
      "cell_type": "code",
      "execution_count": null,
      "metadata": {
        "colab": {
          "base_uri": "https://localhost:8080/"
        },
        "id": "xWDH_gOTQdJp",
        "outputId": "eacfb974-248d-4478-a89f-3826a008d2d5"
      },
      "outputs": [],
      "source": [
        "def shoow_loading():\n",
        "  for i in range(3):\n",
        "    print(i)\n",
        "    print(\"loading....\")\n",
        "shoow_loading()"
      ]
    },
    {
      "cell_type": "code",
      "execution_count": null,
      "metadata": {
        "colab": {
          "base_uri": "https://localhost:8080/"
        },
        "id": "ELMAsnJeLlm2",
        "outputId": "bb1118fe-fc5b-4eb5-b5ed-0ceec11e2b57"
      },
      "outputs": [],
      "source": [
        "def show_loading():\n",
        "  for i in range(3):\n",
        "      print(\"loading\", \".\"*(i+1))\n",
        "show_loading()"
      ]
    },
    {
      "cell_type": "markdown",
      "metadata": {
        "id": "Jy90n0AM_F_I"
      },
      "source": [
        "Functions can take parameters"
      ]
    },
    {
      "cell_type": "code",
      "execution_count": null,
      "metadata": {
        "colab": {
          "base_uri": "https://localhost:8080/"
        },
        "id": "_Xd38JN2RTQe",
        "outputId": "061f5669-efc8-4a32-9a3e-6a29e1c930ef"
      },
      "outputs": [],
      "source": [
        "def sheldon_knock():\n",
        "  for _ in range(3):\n",
        "    print(\"knock knock knock penny\")\n",
        "sheldon_knock()"
      ]
    },
    {
      "cell_type": "code",
      "execution_count": null,
      "metadata": {
        "colab": {
          "base_uri": "https://localhost:8080/"
        },
        "id": "4pDFCjlP_Mqi",
        "outputId": "f3cbd6b3-9eee-4853-c622-875c8be287b9"
      },
      "outputs": [],
      "source": [
        "def sheldon_knock(name):\n",
        "  for i in range(3):\n",
        "     print(\"knock knock knock\", name)\n",
        "sheldon_knock(\"leopard\")     "
      ]
    },
    {
      "cell_type": "code",
      "execution_count": null,
      "metadata": {
        "colab": {
          "base_uri": "https://localhost:8080/"
        },
        "id": "xkUtmXSRAU7x",
        "outputId": "7f042269-6489-42b1-f09e-f0c08f7d826a"
      },
      "outputs": [],
      "source": [
        "def sheldon_knock(name, times = 3):\n",
        "  for i in range(times):\n",
        "    print(\"knock knock knock\", name)\n",
        "sheldon_knock(\"penny\",100)   "
      ]
    },
    {
      "cell_type": "markdown",
      "metadata": {
        "id": "chSFzevSBB28"
      },
      "source": [
        "**Return statement**"
      ]
    },
    {
      "cell_type": "code",
      "execution_count": null,
      "metadata": {
        "colab": {
          "base_uri": "https://localhost:8080/"
        },
        "id": "M-YL45wCBHNk",
        "outputId": "d9aabdc3-7dfd-43c3-8be5-1beba4e85d71"
      },
      "outputs": [],
      "source": [
        "def add(a, b):\n",
        "  return a+b\n",
        "a=add(1,2)\n",
        "print(a)\n"
      ]
    }
  ],
  "metadata": {
    "colab": {
      "include_colab_link": true,
      "provenance": []
    },
    "kernelspec": {
      "display_name": "Python 3",
      "language": "python",
      "name": "python3"
    },
    "language_info": {
      "name": "python",
      "version": "3.10.6 (tags/v3.10.6:9c7b4bd, Aug  1 2022, 21:53:49) [MSC v.1932 64 bit (AMD64)]"
    },
    "vscode": {
      "interpreter": {
        "hash": "63963b3f4c440940f0b94a3100916033a226cb4f45979123153792d60aa56d6a"
      }
    }
  },
  "nbformat": 4,
  "nbformat_minor": 0
}
