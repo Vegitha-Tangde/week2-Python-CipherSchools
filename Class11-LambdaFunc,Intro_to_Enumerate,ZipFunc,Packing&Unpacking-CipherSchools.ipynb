{
  "cells": [
    {
      "cell_type": "code",
      "execution_count": null,
      "metadata": {
        "id": "QsoyhB4U-xkO"
      },
      "outputs": [],
      "source": [
        "def func():\n",
        "  return 1+4\n",
        "a = func\n",
        "a()"
      ]
    },
    {
      "cell_type": "code",
      "execution_count": null,
      "metadata": {
        "colab": {
          "base_uri": "https://localhost:8080/"
        },
        "id": "2AD7EED2-5tS",
        "outputId": "ab4fbbe2-6342-4dbb-a712-c90d19588542"
      },
      "outputs": [],
      "source": [
        "a()"
      ]
    },
    {
      "cell_type": "code",
      "execution_count": null,
      "metadata": {
        "colab": {
          "base_uri": "https://localhost:8080/",
          "height": 37
        },
        "id": "ZNwpc0hq9nwN",
        "outputId": "848ea9a2-ad4f-4196-d510-ce1931588935"
      },
      "outputs": [
        {
          "data": {
            "application/vnd.google.colaboratory.intrinsic+json": {
              "type": "string"
            },
            "text/plain": [
              "'jatinjatin'"
            ]
          },
          "execution_count": 3,
          "metadata": {},
          "output_type": "execute_result"
        }
      ],
      "source": [
        "\"jatin\" * 2"
      ]
    },
    {
      "cell_type": "code",
      "execution_count": null,
      "metadata": {
        "colab": {
          "base_uri": "https://localhost:8080/"
        },
        "id": "sTvJAgqh9nxa",
        "outputId": "a9315ceb-1415-4e07-a122-276c752a63b6"
      },
      "outputs": [],
      "source": [
        "lambda a,b:a+b\n"
      ]
    },
    {
      "cell_type": "code",
      "execution_count": null,
      "metadata": {
        "colab": {
          "base_uri": "https://localhost:8080/"
        },
        "id": "a0neyGyu9nzl",
        "outputId": "43b2099f-20e0-4d17-cc2e-aa257ac51ed7"
      },
      "outputs": [
        {
          "name": "stdout",
          "output_type": "stream",
          "text": [
            "Hello World\n"
          ]
        }
      ],
      "source": [
        "print(\"Hello World\")"
      ]
    },
    {
      "cell_type": "code",
      "execution_count": null,
      "metadata": {
        "id": "TLBjgqYu9n18"
      },
      "outputs": [],
      "source": [
        "show = print"
      ]
    },
    {
      "cell_type": "code",
      "execution_count": null,
      "metadata": {
        "colab": {
          "base_uri": "https://localhost:8080/"
        },
        "id": "TGoYZ-mZ9n4j",
        "outputId": "d132136a-99c8-46cb-8a7e-10c037cb9fa2"
      },
      "outputs": [],
      "source": [
        "show(\"something\")"
      ]
    },
    {
      "cell_type": "code",
      "execution_count": null,
      "metadata": {
        "colab": {
          "base_uri": "https://localhost:8080/",
          "height": 130
        },
        "id": "VXz8scxuAL6z",
        "outputId": "a509da25-28c9-43c6-8935-2b3f54dd76d4"
      },
      "outputs": [],
      "source": [
        "int a[]={1,2,3}"
      ]
    },
    {
      "cell_type": "code",
      "execution_count": null,
      "metadata": {
        "colab": {
          "base_uri": "https://localhost:8080/"
        },
        "id": "NeK-2FGl-veb",
        "outputId": "876e2b0a-6a42-4d38-8b99-080be50e8e3f"
      },
      "outputs": [],
      "source": [
        "names=[\"jatin\",\"saransh\",\"shubham\",\"samarth\"]\n",
        "for name in enumerate(names):\n",
        "  print(name)"
      ]
    },
    {
      "cell_type": "code",
      "execution_count": null,
      "metadata": {
        "colab": {
          "base_uri": "https://localhost:8080/"
        },
        "id": "VjyImL5KautO",
        "outputId": "bc4c76a4-c5e9-4323-8ad5-907a2d623fb5"
      },
      "outputs": [],
      "source": [
        "for a in enumerate(names):\n",
        "  print(a[0],a[1])"
      ]
    },
    {
      "cell_type": "code",
      "execution_count": null,
      "metadata": {
        "colab": {
          "base_uri": "https://localhost:8080/"
        },
        "id": "W6d9U7y29n7J",
        "outputId": "f78c07e7-3f4b-464e-a776-692220437894"
      },
      "outputs": [],
      "source": [
        "for i, name in enumerate(names):\n",
        "  print(i,\"-\",name)"
      ]
    },
    {
      "cell_type": "code",
      "execution_count": null,
      "metadata": {
        "colab": {
          "base_uri": "https://localhost:8080/"
        },
        "id": "WUfVI79YCaRb",
        "outputId": "105d4874-b971-4094-83d4-a99fb527ee20"
      },
      "outputs": [],
      "source": [
        "names=[\"jatin\",\"saransh\",\"shubham\",\"samarth\"]\n",
        "scores=[50,80,90,70]\n",
        "states=[\"delhi\",\"punjab\",\"punjab\",\"punjab\"],\n",
        "for name,score, state in zip(names,scores,states):\n",
        "  print(name,\"-\",score,state)\n",
        "\n"
      ]
    },
    {
      "cell_type": "code",
      "execution_count": null,
      "metadata": {
        "colab": {
          "base_uri": "https://localhost:8080/",
          "height": 182
        },
        "id": "yM6JJ8Mnbzwo",
        "outputId": "468d7138-79f3-4617-c763-a5cffab49858"
      },
      "outputs": [],
      "source": [
        "a=[1,2,3]\n",
        "b,c=a\n",
        "print(b,c)"
      ]
    },
    {
      "cell_type": "code",
      "execution_count": null,
      "metadata": {
        "id": "4I5mc19IBVer"
      },
      "outputs": [],
      "source": [
        "a=1,2\n",
        "print(type(a))"
      ]
    },
    {
      "cell_type": "code",
      "execution_count": null,
      "metadata": {
        "colab": {
          "base_uri": "https://localhost:8080/"
        },
        "id": "_rEuc1ZjBVNY",
        "outputId": "c6fb4dea-cfec-4353-97c5-2735c8bcd617"
      },
      "outputs": [],
      "source": [
        "a=5\n",
        "b=9\n",
        "a,b=b,a\n",
        "print(a,b)"
      ]
    },
    {
      "cell_type": "code",
      "execution_count": null,
      "metadata": {
        "colab": {
          "base_uri": "https://localhost:8080/"
        },
        "id": "QoX7RAQc9n9v",
        "outputId": "943879d2-409a-4f80-ceee-8139b99c3d54"
      },
      "outputs": [],
      "source": [
        "a=5\n",
        "b=9\n",
        "temp=a\n",
        "a=b\n",
        "b=temp\n",
        "print(a,b)"
      ]
    },
    {
      "cell_type": "code",
      "execution_count": null,
      "metadata": {
        "colab": {
          "base_uri": "https://localhost:8080/"
        },
        "id": "zhMN3qJ3bCmb",
        "outputId": "69dfeae0-9071-44e6-ec92-2efef6ec7a6f"
      },
      "outputs": [],
      "source": [
        "a=5\n",
        "b=9\n",
        "a=a+b\n",
        "b=a-b\n",
        "a=a-b\n",
        "print(a,b)"
      ]
    }
  ],
  "metadata": {
    "colab": {
      "include_colab_link": true,
      "provenance": []
    },
    "kernelspec": {
      "display_name": "Python 3",
      "language": "python",
      "name": "python3"
    },
    "language_info": {
      "name": "python",
      "version": "3.10.6 (tags/v3.10.6:9c7b4bd, Aug  1 2022, 21:53:49) [MSC v.1932 64 bit (AMD64)]"
    },
    "vscode": {
      "interpreter": {
        "hash": "63963b3f4c440940f0b94a3100916033a226cb4f45979123153792d60aa56d6a"
      }
    }
  },
  "nbformat": 4,
  "nbformat_minor": 0
}
