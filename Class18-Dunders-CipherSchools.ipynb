{
  "cells": [
    {
      "cell_type": "code",
      "execution_count": null,
      "metadata": {
        "colab": {
          "base_uri": "https://localhost:8080/"
        },
        "id": "xHBEnNH7jTsU",
        "outputId": "8c72ae00-7042-4a0d-fc34-1a3fa53edc99"
      },
      "outputs": [],
      "source": [
        "#__<name of dunder>__\n",
        "class Person:\n",
        "  def __init__(self,name):\n",
        "    self.name=name\n",
        "  def say_hi(self):\n",
        "      print('hello, my name is',self.name)\n",
        "P=Person('QWERTY')\n",
        "P.say_hi()"
      ]
    },
    {
      "cell_type": "code",
      "execution_count": null,
      "metadata": {
        "colab": {
          "base_uri": "https://localhost:8080/"
        },
        "id": "Ed2DbXxInMod",
        "outputId": "05378548-ee43-4fad-886e-a656f1cc7feb"
      },
      "outputs": [],
      "source": [
        "class A:\n",
        "  def __init__(self):\n",
        "    print(self)\n",
        "    print(\"initialized\")\n",
        "  def __del__(self):\n",
        "    print(self)\n",
        "    print(\"I am dying\")\n",
        "a=A()"
      ]
    },
    {
      "cell_type": "code",
      "execution_count": null,
      "metadata": {
        "colab": {
          "base_uri": "https://localhost:8080/"
        },
        "id": "bTyPZKhqenYU",
        "outputId": "a2e8f340-3d04-4705-9010-17c007862f85"
      },
      "outputs": [],
      "source": [
        "a=1\n",
        "print(type(a))\n",
        "a+5\n",
        "a.__add__(5)"
      ]
    },
    {
      "cell_type": "code",
      "execution_count": null,
      "metadata": {
        "colab": {
          "base_uri": "https://localhost:8080/",
          "height": 36
        },
        "id": "XgRIJ3fAezGr",
        "outputId": "070dded1-6199-4939-ec08-8b891d14414b"
      },
      "outputs": [],
      "source": [
        "\"QWERT\"*2"
      ]
    },
    {
      "cell_type": "code",
      "execution_count": null,
      "metadata": {
        "colab": {
          "base_uri": "https://localhost:8080/",
          "height": 36
        },
        "id": "SU6GTRf-e4Cb",
        "outputId": "5a0a7de9-8c3a-4cba-e118-08ec7e4d0480"
      },
      "outputs": [],
      "source": [
        "\"QWERTYUI\".__mul__(2)"
      ]
    },
    {
      "cell_type": "code",
      "execution_count": null,
      "metadata": {
        "colab": {
          "base_uri": "https://localhost:8080/"
        },
        "id": "VfIplu_ynxbA",
        "outputId": "c9ad391f-6e1a-4252-a8c3-52cafa20061c"
      },
      "outputs": [],
      "source": [
        "class A:\n",
        "  a=1\n",
        "  b=2\n",
        "\n",
        "  def __add__(self,x):\n",
        "    return self.a+self.b+x\n",
        "a=A()\n",
        "a+3"
      ]
    }
  ],
  "metadata": {
    "colab": {
      "authorship_tag": "ABX9TyP1qJokRBQ6Giovuq4rFeSb",
      "include_colab_link": true,
      "provenance": []
    },
    "kernelspec": {
      "display_name": "Python 3",
      "language": "python",
      "name": "python3"
    },
    "language_info": {
      "codemirror_mode": {
        "name": "ipython",
        "version": 3
      },
      "file_extension": ".py",
      "mimetype": "text/x-python",
      "name": "python",
      "nbconvert_exporter": "python",
      "pygments_lexer": "ipython3",
      "version": "3.10.6"
    },
    "vscode": {
      "interpreter": {
        "hash": "63963b3f4c440940f0b94a3100916033a226cb4f45979123153792d60aa56d6a"
      }
    }
  },
  "nbformat": 4,
  "nbformat_minor": 0
}
